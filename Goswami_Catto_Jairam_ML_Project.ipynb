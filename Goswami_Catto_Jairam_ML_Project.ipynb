{
  "nbformat": 4,
  "nbformat_minor": 0,
  "metadata": {
    "colab": {
      "name": "Goswami-Catto-Jairam- ML Project.ipynb",
      "provenance": [],
      "authorship_tag": "ABX9TyPLfioq4GBvMoXCeyM2s/Dp",
      "include_colab_link": true
    },
    "kernelspec": {
      "name": "python3",
      "display_name": "Python 3"
    }
  },
  "cells": [
    {
      "cell_type": "markdown",
      "metadata": {
        "id": "view-in-github",
        "colab_type": "text"
      },
      "source": [
        "<a href=\"https://colab.research.google.com/github/avinashjairam/ML_FINAL_PROJECT/blob/main/Goswami_Catto_Jairam_ML_Project.ipynb\" target=\"_parent\"><img src=\"https://colab.research.google.com/assets/colab-badge.svg\" alt=\"Open In Colab\"/></a>"
      ]
    },
    {
      "cell_type": "code",
      "metadata": {
        "id": "DBFJ-ToQJA4G"
      },
      "source": [
        "import os, shutil\n",
        "import numpy as np\n",
        "from keras import layers\n",
        "from keras import models\n",
        "from keras import optimizers\n",
        "from keras.preprocessing.image import ImageDataGenerator\n",
        "from keras.preprocessing import image"
      ],
      "execution_count": 1,
      "outputs": []
    },
    {
      "cell_type": "code",
      "metadata": {
        "id": "tC5oR_uaJulH"
      },
      "source": [
        "\n",
        "import zipfile\n",
        "\n",
        "\n",
        "# data directory\n",
        "data_dir = \"gdrive/My Drive/Colab Notebooks/\"\n",
        "zipped_filename = 'train.zip'\n",
        "with zipfile.ZipFile(os.path.join(data_dir, zipped_filename), 'r') as zip_ref:\n",
        "    zip_ref.extractall(data_dir)"
      ],
      "execution_count": null,
      "outputs": []
    },
    {
      "cell_type": "code",
      "metadata": {
        "id": "4gbTCV8xKEDS"
      },
      "source": [
        ""
      ],
      "execution_count": null,
      "outputs": []
    }
  ]
}